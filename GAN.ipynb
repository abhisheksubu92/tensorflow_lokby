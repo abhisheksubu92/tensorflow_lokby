{
 "cells": [
  {
   "cell_type": "code",
   "execution_count": 1,
   "metadata": {},
   "outputs": [
    {
     "name": "stderr",
     "output_type": "stream",
     "text": [
      "/Users/abhisheksubramanian/anaconda3/lib/python3.6/site-packages/h5py/__init__.py:36: FutureWarning: Conversion of the second argument of issubdtype from `float` to `np.floating` is deprecated. In future, it will be treated as `np.float64 == np.dtype(float).type`.\n",
      "  from ._conv import register_converters as _register_converters\n"
     ]
    }
   ],
   "source": [
    "import numpy as np\n",
    "import pandas as pd\n",
    "import tensorflow as tf"
   ]
  },
  {
   "cell_type": "code",
   "execution_count": 2,
   "metadata": {},
   "outputs": [],
   "source": [
    "import matplotlib.pyplot as plt\n",
    "%matplotlib inline"
   ]
  },
  {
   "cell_type": "code",
   "execution_count": 3,
   "metadata": {},
   "outputs": [],
   "source": [
    "from tensorflow.examples.tutorials.mnist import input_data"
   ]
  },
  {
   "cell_type": "code",
   "execution_count": 4,
   "metadata": {},
   "outputs": [
    {
     "name": "stdout",
     "output_type": "stream",
     "text": [
      "WARNING:tensorflow:From <ipython-input-4-74ba25c1282f>:1: read_data_sets (from tensorflow.contrib.learn.python.learn.datasets.mnist) is deprecated and will be removed in a future version.\n",
      "Instructions for updating:\n",
      "Please use alternatives such as official/mnist/dataset.py from tensorflow/models.\n",
      "WARNING:tensorflow:From /Users/abhisheksubramanian/anaconda3/lib/python3.6/site-packages/tensorflow/contrib/learn/python/learn/datasets/mnist.py:260: maybe_download (from tensorflow.contrib.learn.python.learn.datasets.base) is deprecated and will be removed in a future version.\n",
      "Instructions for updating:\n",
      "Please write your own downloading logic.\n",
      "WARNING:tensorflow:From /Users/abhisheksubramanian/anaconda3/lib/python3.6/site-packages/tensorflow/contrib/learn/python/learn/datasets/mnist.py:262: extract_images (from tensorflow.contrib.learn.python.learn.datasets.mnist) is deprecated and will be removed in a future version.\n",
      "Instructions for updating:\n",
      "Please use tf.data to implement this functionality.\n",
      "Extracting data/train-images-idx3-ubyte.gz\n",
      "WARNING:tensorflow:From /Users/abhisheksubramanian/anaconda3/lib/python3.6/site-packages/tensorflow/contrib/learn/python/learn/datasets/mnist.py:267: extract_labels (from tensorflow.contrib.learn.python.learn.datasets.mnist) is deprecated and will be removed in a future version.\n",
      "Instructions for updating:\n",
      "Please use tf.data to implement this functionality.\n",
      "Extracting data/train-labels-idx1-ubyte.gz\n",
      "Extracting data/t10k-images-idx3-ubyte.gz\n",
      "Extracting data/t10k-labels-idx1-ubyte.gz\n",
      "WARNING:tensorflow:From /Users/abhisheksubramanian/anaconda3/lib/python3.6/site-packages/tensorflow/contrib/learn/python/learn/datasets/mnist.py:290: DataSet.__init__ (from tensorflow.contrib.learn.python.learn.datasets.mnist) is deprecated and will be removed in a future version.\n",
      "Instructions for updating:\n",
      "Please use alternatives such as official/mnist/dataset.py from tensorflow/models.\n"
     ]
    }
   ],
   "source": [
    "mnist = input_data.read_data_sets('data')"
   ]
  },
  {
   "cell_type": "code",
   "execution_count": 5,
   "metadata": {},
   "outputs": [
    {
     "data": {
      "text/plain": [
       "<matplotlib.image.AxesImage at 0x1c426deeb8>"
      ]
     },
     "execution_count": 5,
     "metadata": {},
     "output_type": "execute_result"
    },
    {
     "data": {
      "image/png": "[encoded data removed]",
      "text/plain": [
       "<matplotlib.figure.Figure at 0x183195ae80>"
      ]
     },
     "metadata": {},
     "output_type": "display_data"
    }
   ],
   "source": [
    "plt.imshow(mnist.train.images[14].reshape(28,28),cmap=\"Greys\")"
   ]
  },
  {
   "cell_type": "markdown",
   "metadata": {},
   "source": [
    "First we will begin by coding the generator network"
   ]
  },
  {
   "cell_type": "code",
   "execution_count": 6,
   "metadata": {},
   "outputs": [],
   "source": [
    "def generator(z,reuse=None): #   z is random noise\n",
    "    with tf.variable_scope('gen',reuse = reuse):\n",
    "        hidden1 = tf.layers.dense(inputs=z,units = 128)\n",
    "        alpha = 0.01\n",
    "        hidden1 = tf.maximum(alpha*hidden1,hidden1)\n",
    "        hidden1 = tf.layers.dense(inputs = hidden1,units=128)\n",
    "        hidden2 = tf.layers.dense(inputs=hidden1,units=128)\n",
    "        hidden2 = tf.maximum(alpha*hidden2,hidden2)\n",
    "        out = tf.layers.dense(hidden2,units=784,activation=tf.nn.tanh)\n",
    "        \n",
    "        return out\n",
    "        "
   ]
  },
  {
   "cell_type": "code",
   "execution_count": 7,
   "metadata": {},
   "outputs": [],
   "source": [
    "def discriminator(X,reuse=None): #   z is random noise\n",
    "    with tf.variable_scope('dis',reuse = reuse):\n",
    "        hidden1 = tf.layers.dense(inputs=X,units = 128)\n",
    "        alpha = 0.01\n",
    "        hidden1 = tf.maximum(alpha*hidden1,hidden1)\n",
    "        hidden1 = tf.layers.dense(inputs = hidden1,units=128)\n",
    "        hidden2 = tf.layers.dense(inputs=hidden1,units=128)\n",
    "        hidden2 = tf.maximum(alpha*hidden2,hidden2)\n",
    "        logits = tf.layers.dense(hidden2,units=1)\n",
    "        output = tf.sigmoid(logits)\n",
    "        return output,logits"
   ]
  },
  {
   "cell_type": "code",
   "execution_count": 8,
   "metadata": {},
   "outputs": [],
   "source": [
    "real_images = tf.placeholder(tf.float32,shape=[None,784])\n",
    "z = tf.placeholder(tf.float32,shape=[None,100])\n"
   ]
  },
  {
   "cell_type": "code",
   "execution_count": 9,
   "metadata": {},
   "outputs": [],
   "source": [
    "G = generator(z)\n"
   ]
  },
  {
   "cell_type": "code",
   "execution_count": 10,
   "metadata": {},
   "outputs": [],
   "source": [
    "D_output_real, D_logits_real = discriminator(real_images)"
   ]
  },
  {
   "cell_type": "code",
   "execution_count": 11,
   "metadata": {},
   "outputs": [],
   "source": [
    "D_output_fake, D_logits_fake = discriminator(G,reuse=True)"
   ]
  },
  {
   "cell_type": "code",
   "execution_count": 12,
   "metadata": {},
   "outputs": [],
   "source": [
    "### Loss function\n",
    "\n",
    "def loss_func(logits_in,labels_in):\n",
    "    return tf.reduce_mean(tf.nn.sigmoid_cross_entropy_with_logits(logits = logits_in,labels = labels_in))"
   ]
  },
  {
   "cell_type": "code",
   "execution_count": 14,
   "metadata": {},
   "outputs": [],
   "source": [
    "D_real_loss = loss_func(D_logits_real,tf.ones_like(D_logits_real)*0.9)\n",
    "D_fake_loss = loss_func(D_logits_fake, tf.zeros_like(D_logits_fake))\n",
    "\n"
   ]
  },
  {
   "cell_type": "code",
   "execution_count": 15,
   "metadata": {},
   "outputs": [],
   "source": [
    "D_loss = D_real_loss + D_fake_loss"
   ]
  },
  {
   "cell_type": "code",
   "execution_count": 16,
   "metadata": {},
   "outputs": [],
   "source": [
    "G_loss = loss_func(D_logits_fake,tf.ones_like(D_logits_fake))\n"
   ]
  },
  {
   "cell_type": "code",
   "execution_count": 17,
   "metadata": {},
   "outputs": [],
   "source": [
    "learning_rate = 0.001\n"
   ]
  },
  {
   "cell_type": "code",
   "execution_count": 18,
   "metadata": {},
   "outputs": [],
   "source": [
    "tvars = tf.trainable_variables()\n",
    "d_vars = [var for var in tvars if 'dis' in var.name]\n",
    "g_vars = [var for var in tvars if 'gen' in var.name]"
   ]
  },
  {
   "cell_type": "code",
   "execution_count": 23,
   "metadata": {},
   "outputs": [],
   "source": [
    "D_trainer = tf.train.AdamOptimizer(learning_rate).minimize(D_loss,var_list = d_vars)\n",
    "G_trainer = tf.train.AdamOptimizer(learning_rate).minimize(G_loss,var_list = g_vars)"
   ]
  },
  {
   "cell_type": "code",
   "execution_count": 24,
   "metadata": {},
   "outputs": [],
   "source": [
    "batch_size = 100\n"
   ]
  },
  {
   "cell_type": "code",
   "execution_count": 32,
   "metadata": {},
   "outputs": [],
   "source": [
    "\n",
    "epochs = 2"
   ]
  },
  {
   "cell_type": "code",
   "execution_count": 33,
   "metadata": {},
   "outputs": [],
   "source": [
    "  init = tf.global_variables_initializer()"
   ]
  },
  {
   "cell_type": "code",
   "execution_count": 34,
   "metadata": {},
   "outputs": [],
   "source": [
    "samples = []"
   ]
  },
  {
   "cell_type": "code",
   "execution_count": 41,
   "metadata": {},
   "outputs": [],
   "source": [
    "a = np.random.normal(size=55000)\n",
    "b = np.random.normal(size=55000)"
   ]
  },
  {
   "cell_type": "code",
   "execution_count": 42,
   "metadata": {},
   "outputs": [],
   "source": [
    "df = pd.DataFrame({'a':a,\"b\":b})"
   ]
  },
  {
   "cell_type": "code",
   "execution_count": 43,
   "metadata": {},
   "outputs": [
    {
     "data": {
      "text/html": [
       "<div>\n",
       "<style>\n",
       "    .dataframe thead tr:only-child th {\n",
       "        text-align: right;\n",
       "    }\n",
       "\n",
       "    .dataframe thead th {\n",
       "        text-align: left;\n",
       "    }\n",
       "\n",
       "    .dataframe tbody tr th {\n",
       "        vertical-align: top;\n",
       "    }\n",
       "</style>\n",
       "<table border=\"1\" class=\"dataframe\">\n",
       "  <thead>\n",
       "    <tr style=\"text-align: right;\">\n",
       "      <th></th>\n",
       "      <th>a</th>\n",
       "      <th>b</th>\n",
       "    </tr>\n",
       "  </thead>\n",
       "  <tbody>\n",
       "    <tr>\n",
       "      <th>0</th>\n",
       "      <td>-0.718602</td>\n",
       "      <td>0.047181</td>\n",
       "    </tr>\n",
       "    <tr>\n",
       "      <th>1</th>\n",
       "      <td>-0.912377</td>\n",
       "      <td>-0.597026</td>\n",
       "    </tr>\n",
       "    <tr>\n",
       "      <th>2</th>\n",
       "      <td>-2.489513</td>\n",
       "      <td>-0.547782</td>\n",
       "    </tr>\n",
       "    <tr>\n",
       "      <th>3</th>\n",
       "      <td>-0.379077</td>\n",
       "      <td>0.294650</td>\n",
       "    </tr>\n",
       "    <tr>\n",
       "      <th>4</th>\n",
       "      <td>-0.060710</td>\n",
       "      <td>0.400622</td>\n",
       "    </tr>\n",
       "    <tr>\n",
       "      <th>5</th>\n",
       "      <td>-1.042934</td>\n",
       "      <td>0.481567</td>\n",
       "    </tr>\n",
       "    <tr>\n",
       "      <th>6</th>\n",
       "      <td>-2.033145</td>\n",
       "      <td>-0.430684</td>\n",
       "    </tr>\n",
       "    <tr>\n",
       "      <th>7</th>\n",
       "      <td>-1.659076</td>\n",
       "      <td>-0.732045</td>\n",
       "    </tr>\n",
       "    <tr>\n",
       "      <th>8</th>\n",
       "      <td>0.026683</td>\n",
       "      <td>-1.322109</td>\n",
       "    </tr>\n",
       "    <tr>\n",
       "      <th>9</th>\n",
       "      <td>0.312243</td>\n",
       "      <td>0.292446</td>\n",
       "    </tr>\n",
       "    <tr>\n",
       "      <th>10</th>\n",
       "      <td>-0.063965</td>\n",
       "      <td>1.246170</td>\n",
       "    </tr>\n",
       "    <tr>\n",
       "      <th>11</th>\n",
       "      <td>0.665781</td>\n",
       "      <td>1.445218</td>\n",
       "    </tr>\n",
       "    <tr>\n",
       "      <th>12</th>\n",
       "      <td>-1.765418</td>\n",
       "      <td>0.732427</td>\n",
       "    </tr>\n",
       "    <tr>\n",
       "      <th>13</th>\n",
       "      <td>-1.365423</td>\n",
       "      <td>0.344902</td>\n",
       "    </tr>\n",
       "    <tr>\n",
       "      <th>14</th>\n",
       "      <td>-0.623323</td>\n",
       "      <td>0.740612</td>\n",
       "    </tr>\n",
       "    <tr>\n",
       "      <th>15</th>\n",
       "      <td>1.996545</td>\n",
       "      <td>-0.875523</td>\n",
       "    </tr>\n",
       "    <tr>\n",
       "      <th>16</th>\n",
       "      <td>-0.969481</td>\n",
       "      <td>0.002092</td>\n",
       "    </tr>\n",
       "    <tr>\n",
       "      <th>17</th>\n",
       "      <td>-0.034403</td>\n",
       "      <td>-0.688467</td>\n",
       "    </tr>\n",
       "    <tr>\n",
       "      <th>18</th>\n",
       "      <td>-1.696853</td>\n",
       "      <td>-2.743837</td>\n",
       "    </tr>\n",
       "    <tr>\n",
       "      <th>19</th>\n",
       "      <td>-1.013024</td>\n",
       "      <td>-1.902455</td>\n",
       "    </tr>\n",
       "    <tr>\n",
       "      <th>20</th>\n",
       "      <td>0.351913</td>\n",
       "      <td>-1.617346</td>\n",
       "    </tr>\n",
       "    <tr>\n",
       "      <th>21</th>\n",
       "      <td>1.318031</td>\n",
       "      <td>-1.274324</td>\n",
       "    </tr>\n",
       "    <tr>\n",
       "      <th>22</th>\n",
       "      <td>-2.307856</td>\n",
       "      <td>-1.263944</td>\n",
       "    </tr>\n",
       "    <tr>\n",
       "      <th>23</th>\n",
       "      <td>-0.953225</td>\n",
       "      <td>-1.605825</td>\n",
       "    </tr>\n",
       "    <tr>\n",
       "      <th>24</th>\n",
       "      <td>-0.106695</td>\n",
       "      <td>-2.471728</td>\n",
       "    </tr>\n",
       "    <tr>\n",
       "      <th>25</th>\n",
       "      <td>1.564242</td>\n",
       "      <td>1.573552</td>\n",
       "    </tr>\n",
       "    <tr>\n",
       "      <th>26</th>\n",
       "      <td>0.502570</td>\n",
       "      <td>-0.193375</td>\n",
       "    </tr>\n",
       "    <tr>\n",
       "      <th>27</th>\n",
       "      <td>0.083089</td>\n",
       "      <td>-0.674298</td>\n",
       "    </tr>\n",
       "    <tr>\n",
       "      <th>28</th>\n",
       "      <td>-0.531945</td>\n",
       "      <td>1.439079</td>\n",
       "    </tr>\n",
       "    <tr>\n",
       "      <th>29</th>\n",
       "      <td>0.199204</td>\n",
       "      <td>0.526880</td>\n",
       "    </tr>\n",
       "    <tr>\n",
       "      <th>...</th>\n",
       "      <td>...</td>\n",
       "      <td>...</td>\n",
       "    </tr>\n",
       "    <tr>\n",
       "      <th>54970</th>\n",
       "      <td>-1.207367</td>\n",
       "      <td>1.578620</td>\n",
       "    </tr>\n",
       "    <tr>\n",
       "      <th>54971</th>\n",
       "      <td>-1.236232</td>\n",
       "      <td>-0.019816</td>\n",
       "    </tr>\n",
       "    <tr>\n",
       "      <th>54972</th>\n",
       "      <td>0.339272</td>\n",
       "      <td>-0.519293</td>\n",
       "    </tr>\n",
       "    <tr>\n",
       "      <th>54973</th>\n",
       "      <td>-0.094299</td>\n",
       "      <td>0.354475</td>\n",
       "    </tr>\n",
       "    <tr>\n",
       "      <th>54974</th>\n",
       "      <td>0.246095</td>\n",
       "      <td>0.856433</td>\n",
       "    </tr>\n",
       "    <tr>\n",
       "      <th>54975</th>\n",
       "      <td>-0.945217</td>\n",
       "      <td>0.376658</td>\n",
       "    </tr>\n",
       "    <tr>\n",
       "      <th>54976</th>\n",
       "      <td>-1.037743</td>\n",
       "      <td>0.409783</td>\n",
       "    </tr>\n",
       "    <tr>\n",
       "      <th>54977</th>\n",
       "      <td>0.938924</td>\n",
       "      <td>1.093879</td>\n",
       "    </tr>\n",
       "    <tr>\n",
       "      <th>54978</th>\n",
       "      <td>-0.786961</td>\n",
       "      <td>-0.468316</td>\n",
       "    </tr>\n",
       "    <tr>\n",
       "      <th>54979</th>\n",
       "      <td>0.219131</td>\n",
       "      <td>0.698113</td>\n",
       "    </tr>\n",
       "    <tr>\n",
       "      <th>54980</th>\n",
       "      <td>-0.300601</td>\n",
       "      <td>-1.061074</td>\n",
       "    </tr>\n",
       "    <tr>\n",
       "      <th>54981</th>\n",
       "      <td>-0.400234</td>\n",
       "      <td>0.819072</td>\n",
       "    </tr>\n",
       "    <tr>\n",
       "      <th>54982</th>\n",
       "      <td>-0.111495</td>\n",
       "      <td>0.572193</td>\n",
       "    </tr>\n",
       "    <tr>\n",
       "      <th>54983</th>\n",
       "      <td>1.481777</td>\n",
       "      <td>1.649151</td>\n",
       "    </tr>\n",
       "    <tr>\n",
       "      <th>54984</th>\n",
       "      <td>0.818065</td>\n",
       "      <td>1.928851</td>\n",
       "    </tr>\n",
       "    <tr>\n",
       "      <th>54985</th>\n",
       "      <td>-1.130491</td>\n",
       "      <td>-1.171134</td>\n",
       "    </tr>\n",
       "    <tr>\n",
       "      <th>54986</th>\n",
       "      <td>-0.046473</td>\n",
       "      <td>1.102296</td>\n",
       "    </tr>\n",
       "    <tr>\n",
       "      <th>54987</th>\n",
       "      <td>-0.421840</td>\n",
       "      <td>-1.822946</td>\n",
       "    </tr>\n",
       "    <tr>\n",
       "      <th>54988</th>\n",
       "      <td>-0.920774</td>\n",
       "      <td>0.852959</td>\n",
       "    </tr>\n",
       "    <tr>\n",
       "      <th>54989</th>\n",
       "      <td>-0.468175</td>\n",
       "      <td>-0.865771</td>\n",
       "    </tr>\n",
       "    <tr>\n",
       "      <th>54990</th>\n",
       "      <td>1.775140</td>\n",
       "      <td>-2.200049</td>\n",
       "    </tr>\n",
       "    <tr>\n",
       "      <th>54991</th>\n",
       "      <td>-1.225824</td>\n",
       "      <td>-0.148512</td>\n",
       "    </tr>\n",
       "    <tr>\n",
       "      <th>54992</th>\n",
       "      <td>-0.930488</td>\n",
       "      <td>-1.083819</td>\n",
       "    </tr>\n",
       "    <tr>\n",
       "      <th>54993</th>\n",
       "      <td>1.396245</td>\n",
       "      <td>1.757980</td>\n",
       "    </tr>\n",
       "    <tr>\n",
       "      <th>54994</th>\n",
       "      <td>-0.542517</td>\n",
       "      <td>-0.927692</td>\n",
       "    </tr>\n",
       "    <tr>\n",
       "      <th>54995</th>\n",
       "      <td>1.194954</td>\n",
       "      <td>0.552737</td>\n",
       "    </tr>\n",
       "    <tr>\n",
       "      <th>54996</th>\n",
       "      <td>0.388563</td>\n",
       "      <td>1.756883</td>\n",
       "    </tr>\n",
       "    <tr>\n",
       "      <th>54997</th>\n",
       "      <td>0.351050</td>\n",
       "      <td>-0.475443</td>\n",
       "    </tr>\n",
       "    <tr>\n",
       "      <th>54998</th>\n",
       "      <td>-1.272390</td>\n",
       "      <td>-0.179873</td>\n",
       "    </tr>\n",
       "    <tr>\n",
       "      <th>54999</th>\n",
       "      <td>-1.267686</td>\n",
       "      <td>-1.239416</td>\n",
       "    </tr>\n",
       "  </tbody>\n",
       "</table>\n",
       "<p>55000 rows × 2 columns</p>\n",
       "</div>"
      ],
      "text/plain": [
       "              a         b\n",
       "0     -0.718602  0.047181\n",
       "1     -0.912377 -0.597026\n",
       "2     -2.489513 -0.547782\n",
       "3     -0.379077  0.294650\n",
       "4     -0.060710  0.400622\n",
       "5     -1.042934  0.481567\n",
       "6     -2.033145 -0.430684\n",
       "7     -1.659076 -0.732045\n",
       "8      0.026683 -1.322109\n",
       "9      0.312243  0.292446\n",
       "10    -0.063965  1.246170\n",
       "11     0.665781  1.445218\n",
       "12    -1.765418  0.732427\n",
       "13    -1.365423  0.344902\n",
       "14    -0.623323  0.740612\n",
       "15     1.996545 -0.875523\n",
       "16    -0.969481  0.002092\n",
       "17    -0.034403 -0.688467\n",
       "18    -1.696853 -2.743837\n",
       "19    -1.013024 -1.902455\n",
       "20     0.351913 -1.617346\n",
       "21     1.318031 -1.274324\n",
       "22    -2.307856 -1.263944\n",
       "23    -0.953225 -1.605825\n",
       "24    -0.106695 -2.471728\n",
       "25     1.564242  1.573552\n",
       "26     0.502570 -0.193375\n",
       "27     0.083089 -0.674298\n",
       "28    -0.531945  1.439079\n",
       "29     0.199204  0.526880\n",
       "...         ...       ...\n",
       "54970 -1.207367  1.578620\n",
       "54971 -1.236232 -0.019816\n",
       "54972  0.339272 -0.519293\n",
       "54973 -0.094299  0.354475\n",
       "54974  0.246095  0.856433\n",
       "54975 -0.945217  0.376658\n",
       "54976 -1.037743  0.409783\n",
       "54977  0.938924  1.093879\n",
       "54978 -0.786961 -0.468316\n",
       "54979  0.219131  0.698113\n",
       "54980 -0.300601 -1.061074\n",
       "54981 -0.400234  0.819072\n",
       "54982 -0.111495  0.572193\n",
       "54983  1.481777  1.649151\n",
       "54984  0.818065  1.928851\n",
       "54985 -1.130491 -1.171134\n",
       "54986 -0.046473  1.102296\n",
       "54987 -0.421840 -1.822946\n",
       "54988 -0.920774  0.852959\n",
       "54989 -0.468175 -0.865771\n",
       "54990  1.775140 -2.200049\n",
       "54991 -1.225824 -0.148512\n",
       "54992 -0.930488 -1.083819\n",
       "54993  1.396245  1.757980\n",
       "54994 -0.542517 -0.927692\n",
       "54995  1.194954  0.552737\n",
       "54996  0.388563  1.756883\n",
       "54997  0.351050 -0.475443\n",
       "54998 -1.272390 -0.179873\n",
       "54999 -1.267686 -1.239416\n",
       "\n",
       "[55000 rows x 2 columns]"
      ]
     },
     "execution_count": 43,
     "metadata": {},
     "output_type": "execute_result"
    }
   ],
   "source": [
    "df"
   ]
  },
  {
   "cell_type": "code",
   "execution_count": null,
   "metadata": {},
   "outputs": [],
   "source": []
  },
  {
   "cell_type": "code",
   "execution_count": 46,
   "metadata": {},
   "outputs": [
    {
     "name": "stdout",
     "output_type": "stream",
     "text": [
      "0\n"
     ]
    },
    {
     "ename": "ValueError",
     "evalue": "Cannot feed value of shape (100, 2) for Tensor 'Placeholder:0', which has shape '(?, 784)'",
     "output_type": "error",
     "traceback": [
      "\u001b[0;31m---------------------------------------------------------------------------\u001b[0m",
      "\u001b[0;31mValueError\u001b[0m                                Traceback (most recent call last)",
      "\u001b[0;32m<ipython-input-46-3bf21fc4a9e5>\u001b[0m in \u001b[0;36m<module>\u001b[0;34m()\u001b[0m\n\u001b[1;32m     14\u001b[0m             \u001b[0mbatch_z\u001b[0m \u001b[0;34m=\u001b[0m \u001b[0mnp\u001b[0m\u001b[0;34m.\u001b[0m\u001b[0mrandom\u001b[0m\u001b[0;34m.\u001b[0m\u001b[0muniform\u001b[0m\u001b[0;34m(\u001b[0m\u001b[0;34m-\u001b[0m\u001b[0;36m1\u001b[0m\u001b[0;34m,\u001b[0m\u001b[0;36m1\u001b[0m\u001b[0;34m,\u001b[0m\u001b[0msize\u001b[0m\u001b[0;34m=\u001b[0m\u001b[0;34m(\u001b[0m\u001b[0mbatch_size\u001b[0m\u001b[0;34m,\u001b[0m\u001b[0;36m100\u001b[0m\u001b[0;34m)\u001b[0m\u001b[0;34m)\u001b[0m\u001b[0;34m\u001b[0m\u001b[0m\n\u001b[1;32m     15\u001b[0m \u001b[0;34m\u001b[0m\u001b[0m\n\u001b[0;32m---> 16\u001b[0;31m             \u001b[0m_\u001b[0m \u001b[0;34m=\u001b[0m \u001b[0msess\u001b[0m\u001b[0;34m.\u001b[0m\u001b[0mrun\u001b[0m\u001b[0;34m(\u001b[0m\u001b[0mD_trainer\u001b[0m\u001b[0;34m,\u001b[0m\u001b[0mfeed_dict\u001b[0m \u001b[0;34m=\u001b[0m \u001b[0;34m{\u001b[0m\u001b[0mreal_images\u001b[0m\u001b[0;34m:\u001b[0m\u001b[0mbatch_images\u001b[0m\u001b[0;34m,\u001b[0m\u001b[0mz\u001b[0m\u001b[0;34m:\u001b[0m\u001b[0mbatch_z\u001b[0m\u001b[0;34m}\u001b[0m\u001b[0;34m)\u001b[0m\u001b[0;34m\u001b[0m\u001b[0m\n\u001b[0m\u001b[1;32m     17\u001b[0m             \u001b[0m_\u001b[0m \u001b[0;34m=\u001b[0m \u001b[0msess\u001b[0m\u001b[0;34m.\u001b[0m\u001b[0mrun\u001b[0m\u001b[0;34m(\u001b[0m\u001b[0mG_trainer\u001b[0m\u001b[0;34m,\u001b[0m\u001b[0mfeed_dict\u001b[0m \u001b[0;34m=\u001b[0m \u001b[0;34m{\u001b[0m\u001b[0mz\u001b[0m\u001b[0;34m:\u001b[0m\u001b[0mbatch_z\u001b[0m\u001b[0;34m}\u001b[0m\u001b[0;34m)\u001b[0m\u001b[0;34m\u001b[0m\u001b[0m\n\u001b[1;32m     18\u001b[0m \u001b[0;34m\u001b[0m\u001b[0m\n",
      "\u001b[0;32m~/anaconda3/lib/python3.6/site-packages/tensorflow/python/client/session.py\u001b[0m in \u001b[0;36mrun\u001b[0;34m(self, fetches, feed_dict, options, run_metadata)\u001b[0m\n\u001b[1;32m    927\u001b[0m     \u001b[0;32mtry\u001b[0m\u001b[0;34m:\u001b[0m\u001b[0;34m\u001b[0m\u001b[0m\n\u001b[1;32m    928\u001b[0m       result = self._run(None, fetches, feed_dict, options_ptr,\n\u001b[0;32m--> 929\u001b[0;31m                          run_metadata_ptr)\n\u001b[0m\u001b[1;32m    930\u001b[0m       \u001b[0;32mif\u001b[0m \u001b[0mrun_metadata\u001b[0m\u001b[0;34m:\u001b[0m\u001b[0;34m\u001b[0m\u001b[0m\n\u001b[1;32m    931\u001b[0m         \u001b[0mproto_data\u001b[0m \u001b[0;34m=\u001b[0m \u001b[0mtf_session\u001b[0m\u001b[0;34m.\u001b[0m\u001b[0mTF_GetBuffer\u001b[0m\u001b[0;34m(\u001b[0m\u001b[0mrun_metadata_ptr\u001b[0m\u001b[0;34m)\u001b[0m\u001b[0;34m\u001b[0m\u001b[0m\n",
      "\u001b[0;32m~/anaconda3/lib/python3.6/site-packages/tensorflow/python/client/session.py\u001b[0m in \u001b[0;36m_run\u001b[0;34m(self, handle, fetches, feed_dict, options, run_metadata)\u001b[0m\n\u001b[1;32m   1126\u001b[0m                              \u001b[0;34m'which has shape %r'\u001b[0m \u001b[0;34m%\u001b[0m\u001b[0;34m\u001b[0m\u001b[0m\n\u001b[1;32m   1127\u001b[0m                              (np_val.shape, subfeed_t.name,\n\u001b[0;32m-> 1128\u001b[0;31m                               str(subfeed_t.get_shape())))\n\u001b[0m\u001b[1;32m   1129\u001b[0m           \u001b[0;32mif\u001b[0m \u001b[0;32mnot\u001b[0m \u001b[0mself\u001b[0m\u001b[0;34m.\u001b[0m\u001b[0mgraph\u001b[0m\u001b[0;34m.\u001b[0m\u001b[0mis_feedable\u001b[0m\u001b[0;34m(\u001b[0m\u001b[0msubfeed_t\u001b[0m\u001b[0;34m)\u001b[0m\u001b[0;34m:\u001b[0m\u001b[0;34m\u001b[0m\u001b[0m\n\u001b[1;32m   1130\u001b[0m             \u001b[0;32mraise\u001b[0m \u001b[0mValueError\u001b[0m\u001b[0;34m(\u001b[0m\u001b[0;34m'Tensor %s may not be fed.'\u001b[0m \u001b[0;34m%\u001b[0m \u001b[0msubfeed_t\u001b[0m\u001b[0;34m)\u001b[0m\u001b[0;34m\u001b[0m\u001b[0m\n",
      "\u001b[0;31mValueError\u001b[0m: Cannot feed value of shape (100, 2) for Tensor 'Placeholder:0', which has shape '(?, 784)'"
     ]
    }
   ],
   "source": [
    "with tf.Session() as sess:\n",
    "    sess.run(init)\n",
    "    for epoch in range(epochs):\n",
    "        print(epoch)\n",
    "        num_batches = df.shape[0] // batch_size#mnist.train.num_examples // batch_size\n",
    "        \n",
    "        for i in range(num_batches):\n",
    "            batch = df.iloc[:batch_size,:].values#mnist.train.next_batch(batch_size)\n",
    "            \n",
    "            batch_images = batch.reshape(batch_size,2)#batch[0].reshape((batch_size),2)\n",
    "            \n",
    "            batch_images = batch_images*2-1\n",
    "            \n",
    "            batch_z = np.random.uniform(-1,1,size=(batch_size,100))\n",
    "            \n",
    "            _ = sess.run(D_trainer,feed_dict = {real_images:batch_images,z:batch_z})\n",
    "            _ = sess.run(G_trainer,feed_dict = {z:batch_z})\n",
    "            \n",
    "        print(\"On Epoch {}\".format(epoch))\n",
    "         \n",
    "        sample_z = np.random.uniform(-1,1,size=(1,100))\n",
    "        \n",
    "        gen_sample = sess.run(generator(z,reuse=True),{z:sample_z}\n",
    "                             )\n",
    "        \n",
    "        samples.append(gen_sample) "
   ]
  },
  {
   "cell_type": "code",
   "execution_count": 29,
   "metadata": {},
   "outputs": [
    {
     "data": {
      "text/plain": [
       "55000"
      ]
     },
     "execution_count": 29,
     "metadata": {},
     "output_type": "execute_result"
    }
   ],
   "source": [
    "mnist.train.num_examples"
   ]
  },
  {
   "cell_type": "code",
   "execution_count": 38,
   "metadata": {},
   "outputs": [
    {
     "data": {
      "text/plain": [
       "<matplotlib.image.AxesImage at 0x1c3b575710>"
      ]
     },
     "execution_count": 38,
     "metadata": {},
     "output_type": "execute_result"
    },
    {
     "data": {
      "image/png": "[encoded data removed]",
      "text/plain": [
       "<matplotlib.figure.Figure at 0x1c3bba9c18>"
      ]
     },
     "metadata": {},
     "output_type": "display_data"
    }
   ],
   "source": [
    "plt.imshow(samples[1].reshape(28,28))"
   ]
  },
  {
   "cell_type": "code",
   "execution_count": null,
   "metadata": {},
   "outputs": [],
   "source": []
  }
 ],
 "metadata": {
  "kernelspec": {
   "display_name": "Python 3",
   "language": "python",
   "name": "python3"
  },
  "language_info": {
   "codemirror_mode": {
    "name": "ipython",
    "version": 3
   },
   "file_extension": ".py",
   "mimetype": "text/x-python",
   "name": "python",
   "nbconvert_exporter": "python",
   "pygments_lexer": "ipython3",
   "version": "3.6.2"
  }
 },
 "nbformat": 4,
 "nbformat_minor": 2
}
